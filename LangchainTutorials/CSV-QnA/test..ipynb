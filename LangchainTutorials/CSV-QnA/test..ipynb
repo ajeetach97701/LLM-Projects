{
 "cells": [
  {
   "cell_type": "code",
   "execution_count": 1,
   "metadata": {},
   "outputs": [],
   "source": [
    "import os\n",
    "from dotenv import load_dotenv\n",
    "import google.generativeai as genai\n",
    "from langchain.document_loaders.csv_loader import CSVLoader\n",
    "from langchain_google_genai.embeddings import GoogleGenerativeAIEmbeddings\n",
    "\n",
    "load_dotenv()\n",
    "genai.configure(api_key=os.getenv(\"GOOGLE_API_KEY\"))\n",
    "\n",
    "loaders = CSVLoader(file_path= \"Test-Sheet1.csv\", encoding= \"utf-8\")\n",
    "data = loaders.load()"
   ]
  },
  {
   "cell_type": "code",
   "execution_count": 2,
   "metadata": {},
   "outputs": [
    {
     "data": {
      "text/plain": [
       "[Document(page_content='question: What are the office hours of the bank?\\nanswer: Summer Season (16th Magh - 15th Kartik)\\nDetails:\\n1. Sun-Thurs(Office Hours 9:30 A.M to 5:30 P.M and Transaction Hours 10:00 A.M to 4:00 P.M)\\n2. Friday(Office Hours 9:30 A.M. to 3:00 P.M. and Transaction Hours 10:00 A.M. to 4:00 P.M)\\n\\nWinter Season (16th Kartik - 15th Magh)\\nDetails:\\n1. Sun-Thurs(Office Hours 9:30 A.M to 4:30 P.M and Transaction Hours 10:00 A.M to 3:00 P.M)\\n2. Friday(Office Hours 9:30 A.M. to 3:00 P.M. and Transaction Hours10:00 A.M. to 2:00 P.M)', metadata={'source': 'Test-Sheet1.csv', 'row': 0}),\n",
       " Document(page_content='question: Company detail/company profile\\nanswer: Muktinath Bikas Bank Limited (MNBBL) was established on 19th Paush 2063 B.S. (i.e. 3rd January 2007 A.D.), The Bank is licensed by the Central Bank of Nepal to operate as a “B” Class National Level financial institution with its Central Office at Kamaladi, Kathmandu, Nepal.Today, Muktinath Bikas Bank is known as the leading Development Bank of Nepal with a history of its own.', metadata={'source': 'Test-Sheet1.csv', 'row': 1}),\n",
       " Document(page_content='question: Can you tell me a bit about Muktinath Bikas Bank?\\nanswer: Muktinath Bikas Bank Limited (MNBBL) was established on 19th Paush 2063 B.S. (i.e. 3rd January 2007 A.D.), The Bank is licensed by the Central Bank of Nepal to operate as a “B” Class National Level financial institution with its Central Office at Kamaladi, Kathmandu, Nepal.Today, Muktinath Bikas Bank is known as the leading Development Bank of Nepal with a history of its own.', metadata={'source': 'Test-Sheet1.csv', 'row': 2}),\n",
       " Document(page_content='question: Who are your board of directors?\\nanswer: Our Board of Directors:\\n1. Bharat Raj Dhakal (Chairman)\\n2. Narayan Kumar Shrestha (Director)\\n3. Bharat Prasad Lamsal (Director)\\n4. Shyam Sundar Sharma (Independent Director)\\n5. Binod Kumar Sharma (Director)\\n6. Saroja Shrestha Koirala (Director)', metadata={'source': 'Test-Sheet1.csv', 'row': 3}),\n",
       " Document(page_content='question: Who are the members of the executive team?\\nanswer: Our Executive Team:\\n1. Pradyuman Pokharel(Chief Executive Officer)\\n2. Samir Sekhar Bajracharya(DCEO)\\n3. Til Bahadur Gurung(ADCEO/Chief Operating Officer/Chief Information Officer)\\n4. Govinda Bahadur Raut(ACEO- Inclusive Bankng)', metadata={'source': 'Test-Sheet1.csv', 'row': 4}),\n",
       " Document(page_content='question: Who are the regional/sub-regional heads?\\nanswer: Our Regional/Sub-Regional Head:\\n1. Krishna Kumar KC(Head-Kathmandu Phulchowki Region)\\n2. Shanker K.C (Head- Gandaki Regional Office)\\n3. Rajendra Ghimire (Head- Butwal Regional Office)\\n4.Umesh Joshi (Head-Kohalpur Regional Office)\\n5. Manoj Bista (Head-Itahari Regional Office)\\n6. Namrata Shrestha(Head-Narayangadh Sub Regional Office)\\n7. Malina Shrestha (Head-Kathmandu Nagarjun Region)\\n8. Dhruba Prasad Regmi (Head-Dhading Regional)\\n9. Prabhash Jha (Head-Janakpur Regional Office)', metadata={'source': 'Test-Sheet1.csv', 'row': 5}),\n",
       " Document(page_content='question: Who are the management/steering teams?\\nanswer: Our Steering Team:\\n1. Prem Thapa(Head- Existing Credit Management)\\n2. Baburam Dhakal(Head- Consumer Credit)\\n3. Dandapani Dhakal(Head- Legal and Grievances Redressal)\\n4. Vijay Kumar Gurung(Head-Research, Innovation & Product Development)\\n5. Rashik Bhandari(Head- Business Credit)\\n6. Samir Kumar Paudel(Head- AML/CFT & Compliance)\\n7. Binaya Ratna Shakya(Head- Liability Business)\\n8. Birendra Rajbhat(Head- General Services)\\n9. Sarbesh Shrestha(Head- Information Technology)\\n10. Shankar Prasad Baral(Head- Talent Acquisition, Development & Management)\\n11. Sanjiv Poudel(Chief Finance Officer)\\n12. Sarmila Lamsal(Head- Micro Banking)\\n13. Rajendra Pandey(Head- Transcations Banking)\\n14. Ishwor Budathoki(Head- Internal Audit)\\n15. Subash Dhakal(Head- Central Operations)\\n16. Binju Dahal(Branch Manager- New Baneshwor)\\n17. Shristi Pokhrel(Branch Manager- Kamaladi)', metadata={'source': 'Test-Sheet1.csv', 'row': 6}),\n",
       " Document(page_content='question: what are the capital structures of your bank?\\nanswer: Capital Structures:        \\n• Promoters Contribution        51.00%\\n• Public Contribution        49.00%\\n• Authorize Capital        8.00 Billion\\n• Issued Capital        7.05 Billion\\n• Paid Up Capital        7.05 Billion', metadata={'source': 'Test-Sheet1.csv', 'row': 7}),\n",
       " Document(page_content='question: How many branch offices do you have?\\nanswer: There are a total of 179 branches of Muktinath Bikas Bank.', metadata={'source': 'Test-Sheet1.csv', 'row': 8}),\n",
       " Document(page_content='question: Where is your location/head office/main branch?\\nanswer: • General Banking\\nCentral Office (General Banking)\\nHattisar, Kathmandu\\nEmail: info@muktinathbank.com.np\\nPhone: +977-01-4537324, 4538714\\nToll-Free Number: 16600149999\\n \\n• Inclusive Banking\\nCentral Office (Inclusive Banking)\\nHattisar, Kathmandu\\nEmail: ib@muktinathbank.com.np\\nPhone: +977-01-4537324, 4538714\\nFax: +977-01-4168684', metadata={'source': 'Test-Sheet1.csv', 'row': 9}),\n",
       " Document(page_content='question: What is the contact information of chief information officer?\\nanswer: Name:Til Bahadur Gurung\\nPhone No:16600149999\\nEmail:info@muktinathbank.com.np', metadata={'source': 'Test-Sheet1.csv', 'row': 10}),\n",
       " Document(page_content='question: Tell me the contact details of grievance/complaints handling officer?\\nanswer: Name:Dandapani Dhakal\\nPhone No:+977-01-4542948\\nEmail:grievance@muktinathbank.com.np', metadata={'source': 'Test-Sheet1.csv', 'row': 11}),\n",
       " Document(page_content='question: Contact information of Compliance Officer\\nanswer: Name:Samir Kumar Paudel\\nPhone No:+977-01-4542948\\nEmail:compliance@muktinathbank.com.np', metadata={'source': 'Test-Sheet1.csv', 'row': 12})]"
      ]
     },
     "execution_count": 2,
     "metadata": {},
     "output_type": "execute_result"
    }
   ],
   "source": [
    "data"
   ]
  },
  {
   "cell_type": "code",
   "execution_count": 5,
   "metadata": {},
   "outputs": [
    {
     "ename": "TypeError",
     "evalue": "Milvus.__init__() got multiple values for argument 'collection_name'",
     "output_type": "error",
     "traceback": [
      "\u001b[0;31m---------------------------------------------------------------------------\u001b[0m",
      "\u001b[0;31mTypeError\u001b[0m                                 Traceback (most recent call last)",
      "Cell \u001b[0;32mIn[5], line 28\u001b[0m\n\u001b[1;32m     25\u001b[0m data \u001b[38;5;241m=\u001b[39m loaders\u001b[38;5;241m.\u001b[39mload()\n\u001b[1;32m     27\u001b[0m embeddings \u001b[38;5;241m=\u001b[39m GoogleGenerativeAIEmbeddings(model\u001b[38;5;241m=\u001b[39m\u001b[38;5;124m\"\u001b[39m\u001b[38;5;124mmodels/embedding-001\u001b[39m\u001b[38;5;124m\"\u001b[39m)\n\u001b[0;32m---> 28\u001b[0m database \u001b[38;5;241m=\u001b[39m \u001b[43mMilvus\u001b[49m\u001b[43m(\u001b[49m\u001b[43mdata\u001b[49m\u001b[43m,\u001b[49m\u001b[43m \u001b[49m\u001b[43membeddings\u001b[49m\u001b[43m,\u001b[49m\u001b[43mconnection_args\u001b[49m\u001b[38;5;241;43m=\u001b[39;49m\u001b[43m{\u001b[49m\u001b[38;5;124;43m'\u001b[39;49m\u001b[38;5;124;43mhost\u001b[39;49m\u001b[38;5;124;43m'\u001b[39;49m\u001b[43m:\u001b[49m\u001b[43mhost\u001b[49m\u001b[43m,\u001b[49m\u001b[38;5;124;43m'\u001b[39;49m\u001b[38;5;124;43mport\u001b[39;49m\u001b[38;5;124;43m'\u001b[39;49m\u001b[43m:\u001b[49m\u001b[43mport\u001b[49m\u001b[43m}\u001b[49m\u001b[43m,\u001b[49m\u001b[43mcollection_name\u001b[49m\u001b[38;5;241;43m=\u001b[39;49m\u001b[38;5;124;43m'\u001b[39;49m\u001b[38;5;124;43mCSV_READER\u001b[39;49m\u001b[38;5;124;43m'\u001b[39;49m\u001b[43m)\u001b[49m\n\u001b[1;32m     33\u001b[0m prompt \u001b[38;5;241m=\u001b[39m \u001b[38;5;124m\"\"\"\u001b[39m\n\u001b[1;32m     34\u001b[0m \u001b[38;5;124m### Instruction ###\u001b[39m\n\u001b[1;32m     35\u001b[0m \u001b[38;5;124mYou are a Virtual Assistant for Muktinath Bikas Bank. When a user asks a question you have to answer him based on the context and make sure\u001b[39m\n\u001b[0;32m   (...)\u001b[0m\n\u001b[1;32m     39\u001b[0m \u001b[38;5;124mIf the question is out of context, do not provide the wrong answer just say I am sorry i can\u001b[39m\u001b[38;5;124m'\u001b[39m\u001b[38;5;124mt answer to that question.\u001b[39m\n\u001b[1;32m     40\u001b[0m \u001b[38;5;124m\"\"\"\u001b[39m\n\u001b[1;32m     42\u001b[0m template \u001b[38;5;241m=\u001b[39m ChatPromptTemplate\u001b[38;5;241m.\u001b[39mfrom_template(prompt)\n",
      "\u001b[0;31mTypeError\u001b[0m: Milvus.__init__() got multiple values for argument 'collection_name'"
     ]
    }
   ],
   "source": [
    "import os\n",
    "from dotenv import load_dotenv\n",
    "import google.generativeai as genai\n",
    "from langchain.vectorstores.milvus import Milvus\n",
    "from langchain.document_loaders.csv_loader import CSVLoader\n",
    "from langchain_google_genai.embeddings import GoogleGenerativeAIEmbeddings\n",
    "from langchain_google_genai import ChatGoogleGenerativeAI\n",
    "from langchain_core.output_parsers import StrOutputParser\n",
    "from langchain.prompts import ChatPromptTemplate\n",
    "from langchain.schema.runnable import RunnableMap\n",
    "\n",
    "load_dotenv()\n",
    "host = os.getenv('HOST')\n",
    "port = os.getenv('PORT')\n",
    "genai.configure(api_key=os.getenv(\"GOOGLE_API_KEY\"))\n",
    "generation_config = {\n",
    "    \"temperature\": 0.9,\n",
    "    \"top_k\": 2,\n",
    "}\n",
    "\n",
    "llm = ChatGoogleGenerativeAI(model = \"gemini-pro\", generation_config =generation_config)\n",
    "\n",
    "output_parser = StrOutputParser()\n",
    "\n",
    "loaders = CSVLoader(file_path= \"/Volumes/Ajeet/LLM Projects/CSV-QnA/Test-Sheet1.csv\", encoding= \"utf-8\")\n",
    "data = loaders.load()\n",
    "\n",
    "embeddings = GoogleGenerativeAIEmbeddings(model=\"models/embedding-001\")\n",
    "database = Milvus(data, embeddings,connection_args={'host':host,'port':port},collection_name='CSV_READER')\n",
    "\n",
    "\n",
    "\n",
    "\n",
    "prompt = \"\"\"\n",
    "### Instruction ###\n",
    "You are a Virtual Assistant for Muktinath Bikas Bank. When a user asks a question you have to answer him based on the context and make sure\n",
    "to provide all the details.\n",
    "Context is given in triple back ticks: ```{context}```\n",
    "Question is given in double back ticks:  ``{question}``\n",
    "If the question is out of context, do not provide the wrong answer just say I am sorry i can't answer to that question.\n",
    "\"\"\"\n",
    "\n",
    "template = ChatPromptTemplate.from_template(prompt)\n",
    "\n",
    "\n",
    "chain = RunnableMap(\n",
    "    {\n",
    "        \"context\": lambda x:database.similarity_search(x['question'], k = 8),\n",
    "        \"question\": lambda x:x['question']\n",
    "    }\n",
    ")|template|llm|output_parser\n",
    "\n",
    "def result(query:str):\n",
    "    result = chain.invoke({'question':query})\n",
    "    return {\"text\":result}\n",
    "\n"
   ]
  },
  {
   "cell_type": "code",
   "execution_count": 4,
   "metadata": {},
   "outputs": [
    {
     "name": "stdout",
     "output_type": "stream",
     "text": [
      "Response: {'text': 'The board of directors of Muktinath Bikas Bank are: \\n1. Bharat Raj Dhakal (Chairman)\\n2. Narayan Kumar Shrestha (Director)\\n3. Bharat Prasad Lamsal (Director)\\n4. Shyam Sundar Sharma (Independent Director)\\n5. Binod Kumar Sharma (Director)\\n6. Saroja Shrestha Koirala (Director)'}\n"
     ]
    }
   ],
   "source": [
    "\n",
    "if __name__ == \"__main__\":\n",
    "    query = input(\"Input your query\")\n",
    "    response= result(query= query)\n",
    "    print(\"Response:\",response)\n"
   ]
  },
  {
   "cell_type": "code",
   "execution_count": null,
   "metadata": {},
   "outputs": [],
   "source": []
  }
 ],
 "metadata": {
  "kernelspec": {
   "display_name": "Python 3",
   "language": "python",
   "name": "python3"
  },
  "language_info": {
   "codemirror_mode": {
    "name": "ipython",
    "version": 3
   },
   "file_extension": ".py",
   "mimetype": "text/x-python",
   "name": "python",
   "nbconvert_exporter": "python",
   "pygments_lexer": "ipython3",
   "version": "3.11.0"
  }
 },
 "nbformat": 4,
 "nbformat_minor": 2
}

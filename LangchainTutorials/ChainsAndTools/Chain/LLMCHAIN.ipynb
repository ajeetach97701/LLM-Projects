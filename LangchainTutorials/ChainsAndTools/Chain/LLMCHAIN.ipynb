{
 "cells": [
  {
   "cell_type": "code",
   "execution_count": 9,
   "metadata": {},
   "outputs": [
    {
     "name": "stderr",
     "output_type": "stream",
     "text": [
      "/Volumes/Ajeet/LLM Projects/venv/lib/python3.11/site-packages/langchain_core/_api/deprecation.py:117: LangChainDeprecationWarning: The class `langchain_community.llms.openai.OpenAI` was deprecated in langchain-community 0.0.10 and will be removed in 0.2.0. An updated version of the class exists in the langchain-openai package and should be used instead. To use it run `pip install -U langchain-openai` and import as `from langchain_openai import OpenAI`.\n",
      "  warn_deprecated(\n"
     ]
    }
   ],
   "source": [
    "from langchain.prompts import PromptTemplate\n",
    "from langchain.llms import OpenAI\n",
    "from langchain.chains import LLMChain, SimpleSequentialChain, SequentialChain\n",
    "from langchain.chains import LLMMathChain\n",
    "llm = OpenAI(model_name=  'gpt-3.5-turbo-instruct')\n"
   ]
  },
  {
   "cell_type": "code",
   "execution_count": 11,
   "metadata": {},
   "outputs": [],
   "source": [
    "article = '''Coinbase, the second-largest crypto exchange by trading volume, released its Q4 2022 earnings on Tuesday, giving shareholders and market players alike an updated look into its financials. In response to the report, the company's shares are down modestly in early after-hours trading.In the fourth quarter of 2022, Coinbase generated \n",
    "2.49 billion in the year-ago quarter. Coinbase's top line was not enough to cover its expenses: The company lost \n",
    "2.46 per share, and an adjusted EBITDA deficit of \n",
    "581.2 million in revenue and earnings per share of -\n",
    "201.8 million driven by 8.4 million monthly transaction users (MTUs), according to data provided by Yahoo Finance.Before its Q4 earnings were released, Coinbase's stock had risen 86% year-to-date. Even with that rally, the value of Coinbase when measured on a per-share basis is still down significantly from its 52-week high of \n",
    "26 billion in the third quarter of last year to \n",
    "133 billion to \n",
    "1.5 trillion during 2022, which resulted in Coinbase's total trading volumes and transaction revenues to fall 50% and 66% year-over-year, respectively, the company reported.As you would expect with declines in trading volume, trading revenue at Coinbase fell in Q4 compared to the third quarter of last year, dipping from \n",
    "322.1 million. (TechCrunch is comparing Coinbase's Q4 2022 results to Q3 2022 instead of Q4 2021, as the latter comparison would be less useful given how much the crypto market has changed in the last year; we're all aware that overall crypto activity has fallen from the final months of 2021.)There were bits of good news in the Coinbase report. While Coinbase's trading revenues were less than exuberant, the company's other revenues posted gains. What Coinbase calls its \"subscription and services revenue\" rose from \n",
    "282.8 million in Q4 of the same year, a gain of just over 34% in a single quarter.And even as the crypto industry faced a number of catastrophic events, including the Terra/LUNA and FTX collapses to name a few, there was still growth in other areas. The monthly active developers in crypto have more than doubled since 2020 to over 20,000, while major brands like Starbucks, Nike and Adidas have dived into the space alongside social media platforms like Instagram and Reddit.With big players getting into crypto, industry players are hoping this move results in greater adoption both for product use cases and trading volumes. Although there was a lot of movement from traditional retail markets and Web 2.0 businesses, trading volume for both consumer and institutional users fell quarter-over-quarter for Coinbase.Looking forward, it'll be interesting to see if these pieces pick back up and trading interest reemerges in 2023, or if platforms like Coinbase will have to keep looking elsewhere for revenue (like its subscription service) if users continue to shy away from the market.\n",
    "'''"
   ]
  },
  {
   "cell_type": "markdown",
   "metadata": {},
   "source": [
    "## Chain number 1"
   ]
  },
  {
   "cell_type": "code",
   "execution_count": 12,
   "metadata": {},
   "outputs": [
    {
     "name": "stdout",
     "output_type": "stream",
     "text": [
      "\n",
      "1. Coinbase released its Q4 2022 earnings on Tuesday.\n",
      "2. Company's shares are down modestly in early after-hours trading.\n",
      "3. In Q4 2022, Coinbase generated 2.49 billion in revenue.\n",
      "4. Company had a net loss of 2.46 per share.\n",
      "5. Adjusted EBITDA deficit of 581.2 million in revenue and earnings per share of -201.8 million.\n",
      "6. 8.4 million monthly transaction users (MTUs) in Q4 2022.\n",
      "7. Coinbase's stock had risen 86% year-to-date before Q4 earnings were released.\n",
      "8. Value of Coinbase is down significantly from its 52-week high of 26 billion in the third quarter of last year.\n",
      "9. Total trading volumes and transaction revenues fell 50% and 66% year-over-year, respectively.\n",
      "10. Trading revenue at Coinbase fell in Q4 compared to Q3 2022.\n",
      "11. Other revenues posted gains, with subscription and services revenue rising 34% in a single quarter.\n",
      "12. Monthly active developers in crypto have more than doubled since 2020.\n",
      "13. Major brands like Starbucks, Nike, and Adidas have entered the crypto space.\n",
      "14. Social media\n"
     ]
    }
   ],
   "source": [
    "template = \"Extract the key facts out of this text. Don't include opinions. Give each fact a number and keep them short sentences: \\n\\n{text_input}\"\n",
    "fact_extraction_prompt = PromptTemplate(input_variables=[\"text_input\"], template= template)\n",
    "fact_extraction_chain = LLMChain(llm = llm , prompt=fact_extraction_prompt)\n",
    "facts = fact_extraction_chain.run(article)\n",
    "print(facts)"
   ]
  },
  {
   "cell_type": "markdown",
   "metadata": {},
   "source": [
    "## Chain number 2"
   ]
  },
  {
   "cell_type": "code",
   "execution_count": 13,
   "metadata": {},
   "outputs": [
    {
     "name": "stdout",
     "output_type": "stream",
     "text": [
      " platforms like Facebook and Twitter have announced plans to incorporate cryptocurrency in their platforms.\n",
      "\n",
      "\n",
      "As a leading investment firm, we at Goldman Sachs are closely monitoring the latest developments in the cryptocurrency industry. On Tuesday, Coinbase released its Q4 2022 earnings, reporting a revenue of 2.49 billion and a net loss of 2.46 per share. While the company's stock is down modestly in early after-hours trading, we note that Coinbase's value is still up 86% year-to-date. However, it is down significantly from its 52-week high of 26 billion in the third quarter of last year. In Q4, total trading volumes and transaction revenues fell 50% and 66% year-over-year, respectively. Despite this, other revenues, such as subscription and services, saw a 34% increase in just one quarter. Additionally, Coinbase reported 8.4 million monthly transaction users and a significant increase in monthly active developers in the crypto space since 2020. This growth is further supported by major brands like Starbucks, Nike, and Adidas entering the crypto space, and social media platforms like Facebook and Twitter announcing plans to incorporate cryptocurrency. We believe that with its strong user base and increasing adoption, Coinbase is well-positioned for future growth\n"
     ]
    },
    {
     "data": {
      "text/plain": [
       "1285"
      ]
     },
     "execution_count": 13,
     "metadata": {},
     "output_type": "execute_result"
    }
   ],
   "source": [
    "template = \"You are a Goldman Sachs analyst. Take the following list of facts and use them to write a short paragrah for investors. Don't leave out key info:\\n\\n {facts}\"\n",
    "investor_update_prompt = PromptTemplate(\n",
    "    input_variables=[\"facts\"],\n",
    "    template= template\n",
    ")\n",
    "investor_update_chain = LLMChain(llm=llm, prompt=investor_update_prompt)\n",
    "# Input of this chain is the output of previous chain\n",
    "investor_update = investor_update_chain.run(facts)\n",
    "\n",
    "print(investor_update)\n",
    "len(investor_update)"
   ]
  },
  {
   "cell_type": "markdown",
   "metadata": {},
   "source": [
    "## Chain number 3"
   ]
  },
  {
   "cell_type": "code",
   "execution_count": 14,
   "metadata": {},
   "outputs": [
    {
     "name": "stdout",
     "output_type": "stream",
     "text": [
      " platform Facebook is planning to launch its own cryptocurrency.\n",
      "\n",
      "1. <Coinbase, released, Q4 2022 earnings>\n",
      "2. <Company, shares, down>\n",
      "3. <Coinbase, generated, 2.49 billion>\n",
      "4. <Company, net loss, 2.46 per share>\n",
      "5. <Company, adjusted EBITDA deficit, 581.2 million>\n",
      "6. <Coinbase, monthly transaction users, 8.4 million>\n",
      "7. <Coinbase's stock, risen, 86% year-to-date>\n",
      "8. <Value of Coinbase, down, 52-week high of 26 billion>\n",
      "9. <Total trading volumes, fell, 50% year-over-year>\n",
      "10. <Trading revenue at Coinbase, fell, Q4 2022 compared to Q3 2022>\n",
      "11. <Other revenues, posted gains, subscription and services revenue, rose, 34%>\n",
      "12. <Monthly active developers in crypto, more than doubled, since 2020>\n",
      "13. <Major brands, entered, crypto space>\n",
      "14. <Social media platform Facebook, planning to launch, own cryptocurrency>\n"
     ]
    }
   ],
   "source": [
    "triples_prompt = PromptTemplate(\n",
    "    input_variables=[\"facts\"],\n",
    "    template=\"Take the following list of facts and turn them into triples for a knowledge graph:\\n\\n {facts}\"\n",
    ")\n",
    "triples_chain = LLMChain(llm = llm, prompt= triples_prompt)\n",
    "triples = triples_chain.run(facts)\n",
    "triples = triples_chain.run(facts)\n",
    "print(triples)"
   ]
  },
  {
   "cell_type": "markdown",
   "metadata": {},
   "source": [
    "## Now Chaining these together"
   ]
  },
  {
   "cell_type": "code",
   "execution_count": 15,
   "metadata": {},
   "outputs": [
    {
     "name": "stdout",
     "output_type": "stream",
     "text": [
      "\n",
      "\n",
      "\u001b[1m> Entering new SimpleSequentialChain chain...\u001b[0m\n",
      "\u001b[36;1m\u001b[1;3m\n",
      "1. Coinbase released its Q4 2022 earnings on Tuesday\n",
      "2. The company's shares are down modestly in early after-hours trading in response to the report\n",
      "3. In Q4 2022, Coinbase generated $2.49 billion in revenue\n",
      "4. Coinbase's expenses exceeded its revenue, resulting in a loss per share and an adjusted EBITDA deficit\n",
      "5. Coinbase had 8.4 million monthly transaction users in Q4 2022\n",
      "6. Before the earnings report, Coinbase's stock had risen 86% year-to-date\n",
      "7. The value of Coinbase measured on a per-share basis is down significantly from its 52-week high\n",
      "8. Total trading volumes and transaction revenues fell 50% and 66% year-over-year, respectively\n",
      "9. Trading revenue at Coinbase fell in Q4 compared to Q3 2022\n",
      "10. Subscription and services revenue for Coinbase increased by 34% in Q4 2022\n",
      "11. Monthly active developers in crypto have more than doubled since 2020\n",
      "12. Major brands like Starbucks, Nike, and Adidas have entered the crypto space\n",
      "13. The monthly active developers in crypto have more than doubled since 2020\n",
      "14. Trading volume for both consumer and\u001b[0m\n",
      "\u001b[33;1m\u001b[1;3m institutional investors increased significantly in Q4 2022\n",
      "\n",
      "Dear investors,\n",
      "\n",
      "We would like to update you on Coinbase's Q4 2022 earnings, which were released on Tuesday. While the company's shares are down modestly in early after-hours trading, it is important to note that Coinbase generated $2.49 billion in revenue during this time period. Despite this strong revenue, the company's expenses exceeded its revenue, resulting in a loss per share and an adjusted EBITDA deficit. Additionally, Coinbase had 8.4 million monthly transaction users in Q4 2022.\n",
      "\n",
      "Before the earnings report, Coinbase's stock had risen 86% year-to-date. However, the value of Coinbase measured on a per-share basis is down significantly from its 52-week high. This can be attributed to the 50% decrease in total trading volumes and 66% decrease in transaction revenues year-over-year. It is also worth noting that trading revenue at Coinbase fell in Q4 compared to Q3 2022.\n",
      "\n",
      "On a positive note, subscription and services revenue for Coinbase increased by 34% in Q4 2022. Furthermore, the monthly active developers in crypto have more than doubled since 2020, indicating a growing interest and involvement in the industry. This is\u001b[0m\n",
      "\n",
      "\u001b[1m> Finished chain.\u001b[0m\n"
     ]
    }
   ],
   "source": [
    "full_chain = SimpleSequentialChain(chains= [fact_extraction_chain, investor_update_chain], verbose=True)\n",
    "response = full_chain.run(article)"
   ]
  },
  {
   "cell_type": "code",
   "execution_count": null,
   "metadata": {},
   "outputs": [],
   "source": []
  },
  {
   "cell_type": "markdown",
   "metadata": {},
   "source": [
    "## PAL Chain \n",
    "- For a number problem like a math equation, wer are prompting a model to take a question and turn it into a python function which will calculate the math rather that guess it with a model and give output\n"
   ]
  },
  {
   "cell_type": "code",
   "execution_count": null,
   "metadata": {},
   "outputs": [],
   "source": []
  },
  {
   "cell_type": "code",
   "execution_count": null,
   "metadata": {},
   "outputs": [],
   "source": []
  }
 ],
 "metadata": {
  "kernelspec": {
   "display_name": "Python 3",
   "language": "python",
   "name": "python3"
  },
  "language_info": {
   "codemirror_mode": {
    "name": "ipython",
    "version": 3
   },
   "file_extension": ".py",
   "mimetype": "text/x-python",
   "name": "python",
   "nbconvert_exporter": "python",
   "pygments_lexer": "ipython3",
   "version": "3.11.0"
  }
 },
 "nbformat": 4,
 "nbformat_minor": 2
}

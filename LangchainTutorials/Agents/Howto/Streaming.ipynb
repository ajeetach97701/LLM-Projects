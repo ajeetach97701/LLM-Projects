{
 "cells": [
  {
   "cell_type": "markdown",
   "metadata": {},
   "source": [
    "## Without agents"
   ]
  },
  {
   "cell_type": "code",
   "execution_count": 29,
   "metadata": {},
   "outputs": [
    {
     "name": "stdout",
     "output_type": "stream",
     "text": [
      "Hello! I'm just a computer program, so I don't have feelings, but I'm here to help you. Here's a long story for you:\n",
      "\n",
      "Once upon a time, in a small village nestled in the mountains, there lived a young girl named Lily. Lily was known throughout the village for her kindness and generosity. She would often spend her days helping the elderly, feeding stray animals, and tending to the sick.\n",
      "\n",
      "One day, a terrible storm hit the village, causing widespread destruction and leaving many homeless. Lily knew she had to do something to help her fellow villagers. She gathered supplies and set out to rebuild the homes that had been destroyed.\n",
      "\n",
      "As she worked tirelessly day and night, word of Lily's selfless acts spread throughout the village and beyond. People from neighboring villages came to lend a hand, inspired by Lily's compassion and determination.\n",
      "\n",
      "Months passed, and the village was slowly rebuilt, thanks to Lily's hard work and the help of others. The once devastated community was now thriving, and Lily was hailed as a hero.\n",
      "\n",
      "But despite all the praise and recognition, Lily remained humble and continued to help those in need. She knew that true happiness came from making a difference in the lives of others.\n",
      "\n",
      "And so, the story of Lily, the kind-hearted girl from the mountains, became a legend that was passed down from generation to generation. Her legacy of compassion and selflessness lived on, inspiring others to follow in her footsteps and make the world a better place."
     ]
    },
    {
     "data": {
      "text/plain": [
       "AIMessage(content=\"Hello! I'm just a computer program, so I don't have feelings, but I'm here to help you. Here's a long story for you:\\n\\nOnce upon a time, in a small village nestled in the mountains, there lived a young girl named Lily. Lily was known throughout the village for her kindness and generosity. She would often spend her days helping the elderly, feeding stray animals, and tending to the sick.\\n\\nOne day, a terrible storm hit the village, causing widespread destruction and leaving many homeless. Lily knew she had to do something to help her fellow villagers. She gathered supplies and set out to rebuild the homes that had been destroyed.\\n\\nAs she worked tirelessly day and night, word of Lily's selfless acts spread throughout the village and beyond. People from neighboring villages came to lend a hand, inspired by Lily's compassion and determination.\\n\\nMonths passed, and the village was slowly rebuilt, thanks to Lily's hard work and the help of others. The once devastated community was now thriving, and Lily was hailed as a hero.\\n\\nBut despite all the praise and recognition, Lily remained humble and continued to help those in need. She knew that true happiness came from making a difference in the lives of others.\\n\\nAnd so, the story of Lily, the kind-hearted girl from the mountains, became a legend that was passed down from generation to generation. Her legacy of compassion and selflessness lived on, inspiring others to follow in her footsteps and make the world a better place.\", response_metadata={'finish_reason': 'stop'}, id='run-441167dd-8d90-42e4-a240-00374df9be8f-0')"
      ]
     },
     "execution_count": 29,
     "metadata": {},
     "output_type": "execute_result"
    }
   ],
   "source": [
    "\"\"\"This is a basic example of streaming without the use of agents it is very simple. After using agents it will become more complex\"\"\"\n",
    "\n",
    "import os\n",
    "from langchain_openai import ChatOpenAI\n",
    "from langchain.callbacks.streaming_stdout import StreamingStdOutCallbackHandler\n",
    "from langchain.schema import HumanMessage\n",
    "os.environ['OPENAI_API_KEY'] = os.getenv(\"OPENAI_API_KEY\")\n",
    "llm = ChatOpenAI(\n",
    "    openai_api_key=os.getenv('OPENAI_API_KEY'),\n",
    "    temperature=0,\n",
    "    model_name=\"gpt-3.5-turbo\",\n",
    "    streaming=True,\n",
    "    callbacks=[StreamingStdOutCallbackHandler()]\n",
    ")\n",
    "messages = [HumanMessage(content= \"Hello, How are you. Tell me a long story\")]\n",
    "llm(messages)"
   ]
  },
  {
   "cell_type": "markdown",
   "metadata": {},
   "source": [
    "## With Agents:"
   ]
  },
  {
   "cell_type": "code",
   "execution_count": 36,
   "metadata": {},
   "outputs": [],
   "source": [
    "from langchain.memory import ConversationBufferWindowMemory\n",
    "from langchain.agents import load_tools, AgentType, initialize_agent, create_react_agent\n",
    "memory = ConversationBufferWindowMemory(\n",
    "    memory_key=\"chat_history\",\n",
    "    k = 5, return_messages= True,\n",
    "    output_key=\"output\"\n",
    ")"
   ]
  },
  {
   "cell_type": "code",
   "execution_count": 37,
   "metadata": {},
   "outputs": [],
   "source": [
    "tools = load_tools([\"llm-math\"], llm = llm)"
   ]
  },
  {
   "cell_type": "code",
   "execution_count": 43,
   "metadata": {},
   "outputs": [],
   "source": [
    "agent = initialize_agent(\n",
    "    agent=  AgentType.CHAT_CONVERSATIONAL_REACT_DESCRIPTION,\n",
    "    tools = tools, llm = llm, memory = memory , verbose = True,\n",
    "    max_iterations = 3, early_stopping_methos = \"generate\",\n",
    "    return_immediate_steps = False\n",
    "\n",
    ")"
   ]
  },
  {
   "cell_type": "code",
   "execution_count": 46,
   "metadata": {},
   "outputs": [],
   "source": [
    "prompt = \"Hello, How are you? Hows it going?\""
   ]
  },
  {
   "cell_type": "code",
   "execution_count": 47,
   "metadata": {},
   "outputs": [
    {
     "name": "stdout",
     "output_type": "stream",
     "text": [
      "\n",
      "\n",
      "\u001b[1m> Entering new AgentExecutor chain...\u001b[0m\n",
      "```json\n",
      "{\n",
      "    \"action\": \"Final Answer\",\n",
      "    \"action_input\": \"I'm just a computer program, so I don't have feelings, but I'm here to help you!\"\n",
      "}\n",
      "```\u001b[32;1m\u001b[1;3m```json\n",
      "{\n",
      "    \"action\": \"Final Answer\",\n",
      "    \"action_input\": \"I'm just a computer program, so I don't have feelings, but I'm here to help you!\"\n",
      "}\n",
      "```\u001b[0m\n",
      "\n",
      "\u001b[1m> Finished chain.\u001b[0m\n"
     ]
    },
    {
     "data": {
      "text/plain": [
       "{'input': 'Hello, How are you? Hows it going?',\n",
       " 'chat_history': [HumanMessage(content='Hello, How are you? Hows the weather today?'),\n",
       "  AIMessage(content=\"I'm just a computer program, so I don't have feelings, but I'm here to help you! As for the weather, I'm afraid I can't provide real-time updates. You may want to check a weather website or app for the current weather in your area.\")],\n",
       " 'output': \"I'm just a computer program, so I don't have feelings, but I'm here to help you!\"}"
      ]
     },
     "execution_count": 47,
     "metadata": {},
     "output_type": "execute_result"
    }
   ],
   "source": [
    "agent(prompt)"
   ]
  },
  {
   "cell_type": "code",
   "execution_count": 48,
   "metadata": {},
   "outputs": [],
   "source": [
    "prompt = \"Hello, What is the square root of -13?\""
   ]
  },
  {
   "cell_type": "code",
   "execution_count": 49,
   "metadata": {},
   "outputs": [
    {
     "name": "stdout",
     "output_type": "stream",
     "text": [
      "\n",
      "\n",
      "\u001b[1m> Entering new AgentExecutor chain...\u001b[0m\n",
      "```json\n",
      "{\n",
      "    \"action\": \"Calculator\",\n",
      "    \"action_input\": \"square root of -13\"\n",
      "}\n",
      "```\u001b[32;1m\u001b[1;3m```json\n",
      "{\n",
      "    \"action\": \"Calculator\",\n",
      "    \"action_input\": \"square root of -13\"\n",
      "}\n",
      "```\u001b[0m```text\n",
      "(-13)**0.5\n",
      "```\n",
      "...numexpr.evaluate(\"(-13)**0.5\")...\n",
      "\n",
      "Observation: \u001b[36;1m\u001b[1;3mAnswer: (2.2077634143293155e-16+3.605551275463989j)\u001b[0m\n",
      "Thought:```json\n",
      "{\n",
      "    \"action\": \"Final Answer\",\n",
      "    \"action_input\": \"The square root of -13 is approximately 2.21e-16 + 3.61j\"\n",
      "}\n",
      "```\u001b[32;1m\u001b[1;3m```json\n",
      "{\n",
      "    \"action\": \"Final Answer\",\n",
      "    \"action_input\": \"The square root of -13 is approximately 2.21e-16 + 3.61j\"\n",
      "}\n",
      "```\u001b[0m\n",
      "\n",
      "\u001b[1m> Finished chain.\u001b[0m\n"
     ]
    },
    {
     "data": {
      "text/plain": [
       "{'input': 'Hello, What is the square root of -13?',\n",
       " 'chat_history': [HumanMessage(content='Hello, How are you? Hows the weather today?'),\n",
       "  AIMessage(content=\"I'm just a computer program, so I don't have feelings, but I'm here to help you! As for the weather, I'm afraid I can't provide real-time updates. You may want to check a weather website or app for the current weather in your area.\"),\n",
       "  HumanMessage(content='Hello, How are you? Hows it going?'),\n",
       "  AIMessage(content=\"I'm just a computer program, so I don't have feelings, but I'm here to help you!\")],\n",
       " 'output': 'The square root of -13 is approximately 2.21e-16 + 3.61j'}"
      ]
     },
     "execution_count": 49,
     "metadata": {},
     "output_type": "execute_result"
    }
   ],
   "source": [
    "agent(prompt\n",
    "      )"
   ]
  },
  {
   "cell_type": "markdown",
   "metadata": {},
   "source": [
    "## From docs"
   ]
  },
  {
   "cell_type": "code",
   "execution_count": null,
   "metadata": {},
   "outputs": [],
   "source": []
  },
  {
   "cell_type": "code",
   "execution_count": null,
   "metadata": {},
   "outputs": [],
   "source": []
  }
 ],
 "metadata": {
  "kernelspec": {
   "display_name": "Python 3",
   "language": "python",
   "name": "python3"
  },
  "language_info": {
   "codemirror_mode": {
    "name": "ipython",
    "version": 3
   },
   "file_extension": ".py",
   "mimetype": "text/x-python",
   "name": "python",
   "nbconvert_exporter": "python",
   "pygments_lexer": "ipython3",
   "version": "3.11.0"
  }
 },
 "nbformat": 4,
 "nbformat_minor": 2
}

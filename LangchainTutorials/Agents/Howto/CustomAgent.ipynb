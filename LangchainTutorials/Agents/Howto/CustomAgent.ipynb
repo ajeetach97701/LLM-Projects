{
 "cells": [
  {
   "cell_type": "code",
   "execution_count": 1,
   "metadata": {},
   "outputs": [],
   "source": [
    "from langchain_openai import ChatOpenAI\n",
    "llm = ChatOpenAI(model = \"gpt-3.5-turbo\", temperature= 0)"
   ]
  },
  {
   "cell_type": "code",
   "execution_count": 2,
   "metadata": {},
   "outputs": [],
   "source": [
    "from langchain.agents import tool\n",
    "\n",
    "@tool\n",
    "def get_word_length(word:str) -> int:\n",
    "    \"\"\"Returns the length of a word.\"\"\"\n",
    "    return len(word)\n",
    "\n",
    "tools = [get_word_length]"
   ]
  },
  {
   "cell_type": "code",
   "execution_count": 3,
   "metadata": {},
   "outputs": [],
   "source": [
    "from langchain_core.prompts import ChatPromptTemplate, MessagesPlaceholder\n",
    "\n",
    "prompt = ChatPromptTemplate.from_messages(\n",
    "    [\n",
    "        (\n",
    "            \"system\",\"You are a very powerful assistant, but don't know current events\",\n",
    "        ),\n",
    "        (\"user\",\"{input}\"),\n",
    "        MessagesPlaceholder(variable_name=\"agent_scratchpad\")\n",
    "    ]\n",
    ")"
   ]
  },
  {
   "cell_type": "markdown",
   "metadata": {},
   "source": [
    "# \n",
    "How does the agent know what tools it can use?\n",
    "\n",
    "In this case we’re relying on OpenAI tool calling LLMs, \n",
    "\n",
    "which take tools as a separate argument and have been specifically trained to know when to invoke those tools.\n",
    "\n",
    "To pass in our tools to the agent, we just need to format them to the OpenAI tool format and pass them to our model.\n",
    "\n",
    "(By bind-ing the functions, we’re making sure that they’re passed in each time the model is invoked.)\n",
    "\n"
   ]
  },
  {
   "cell_type": "code",
   "execution_count": 4,
   "metadata": {},
   "outputs": [],
   "source": [
    "llm_with_tools = llm.bind_tools(tools)"
   ]
  },
  {
   "cell_type": "code",
   "execution_count": 5,
   "metadata": {},
   "outputs": [],
   "source": [
    "from langchain.agents.format_scratchpad.openai_tools import (format_to_openai_tool_messages,)\n",
    "from langchain.agents.output_parsers.openai_tools import OpenAIToolsAgentOutputParser\n",
    "from langchain_core.prompts import ChatPromptTemplate, MessagesPlaceholder\n",
    "\n",
    "agent = (\n",
    "    {\n",
    "        \"input\": lambda x:x[\"input\"],\n",
    "        \"agent_scratchpad\": lambda x:format_to_openai_tool_messages(\n",
    "            x[\"intermediate_steps\"]\n",
    "        ),\n",
    "    }\n",
    "    |prompt\n",
    "    |llm_with_tools\n",
    "    | OpenAIToolsAgentOutputParser()\n",
    ")"
   ]
  },
  {
   "cell_type": "code",
   "execution_count": 6,
   "metadata": {},
   "outputs": [],
   "source": [
    "from langchain.agents import AgentExecutor\n",
    "agent_executor = AgentExecutor(agent = agent, tools= tools , verbose=True)"
   ]
  },
  {
   "cell_type": "code",
   "execution_count": 8,
   "metadata": {},
   "outputs": [
    {
     "name": "stdout",
     "output_type": "stream",
     "text": [
      "\n",
      "\n",
      "\u001b[1m> Entering new AgentExecutor chain...\u001b[0m\n",
      "\u001b[32;1m\u001b[1;3m\n",
      "Invoking: `get_word_length` with `{'word': 'KatsukiBakugo'}`\n",
      "\n",
      "\n",
      "\u001b[0m\u001b[36;1m\u001b[1;3m13\u001b[0m\u001b[32;1m\u001b[1;3mThere are 13 words in \"KatsukiBakugo\".\u001b[0m\n",
      "\n",
      "\u001b[1m> Finished chain.\u001b[0m\n"
     ]
    },
    {
     "data": {
      "text/plain": [
       "[{'actions': [ToolAgentAction(tool='get_word_length', tool_input={'word': 'KatsukiBakugo'}, log=\"\\nInvoking: `get_word_length` with `{'word': 'KatsukiBakugo'}`\\n\\n\\n\", message_log=[AIMessageChunk(content='', additional_kwargs={'tool_calls': [{'index': 0, 'id': 'call_pGSwislb85SrRISGqp8nChO1', 'function': {'arguments': '{\"word\":\"KatsukiBakugo\"}', 'name': 'get_word_length'}, 'type': 'function'}]}, response_metadata={'finish_reason': 'tool_calls'}, id='run-a679d7c5-f8a5-49a2-ab80-2655afd019e6', tool_calls=[{'name': 'get_word_length', 'args': {'word': 'KatsukiBakugo'}, 'id': 'call_pGSwislb85SrRISGqp8nChO1'}], tool_call_chunks=[{'name': 'get_word_length', 'args': '{\"word\":\"KatsukiBakugo\"}', 'id': 'call_pGSwislb85SrRISGqp8nChO1', 'index': 0}])], tool_call_id='call_pGSwislb85SrRISGqp8nChO1')],\n",
       "  'messages': [AIMessageChunk(content='', additional_kwargs={'tool_calls': [{'index': 0, 'id': 'call_pGSwislb85SrRISGqp8nChO1', 'function': {'arguments': '{\"word\":\"KatsukiBakugo\"}', 'name': 'get_word_length'}, 'type': 'function'}]}, response_metadata={'finish_reason': 'tool_calls'}, id='run-a679d7c5-f8a5-49a2-ab80-2655afd019e6', tool_calls=[{'name': 'get_word_length', 'args': {'word': 'KatsukiBakugo'}, 'id': 'call_pGSwislb85SrRISGqp8nChO1'}], tool_call_chunks=[{'name': 'get_word_length', 'args': '{\"word\":\"KatsukiBakugo\"}', 'id': 'call_pGSwislb85SrRISGqp8nChO1', 'index': 0}])]},\n",
       " {'steps': [AgentStep(action=ToolAgentAction(tool='get_word_length', tool_input={'word': 'KatsukiBakugo'}, log=\"\\nInvoking: `get_word_length` with `{'word': 'KatsukiBakugo'}`\\n\\n\\n\", message_log=[AIMessageChunk(content='', additional_kwargs={'tool_calls': [{'index': 0, 'id': 'call_pGSwislb85SrRISGqp8nChO1', 'function': {'arguments': '{\"word\":\"KatsukiBakugo\"}', 'name': 'get_word_length'}, 'type': 'function'}]}, response_metadata={'finish_reason': 'tool_calls'}, id='run-a679d7c5-f8a5-49a2-ab80-2655afd019e6', tool_calls=[{'name': 'get_word_length', 'args': {'word': 'KatsukiBakugo'}, 'id': 'call_pGSwislb85SrRISGqp8nChO1'}], tool_call_chunks=[{'name': 'get_word_length', 'args': '{\"word\":\"KatsukiBakugo\"}', 'id': 'call_pGSwislb85SrRISGqp8nChO1', 'index': 0}])], tool_call_id='call_pGSwislb85SrRISGqp8nChO1'), observation=13)],\n",
       "  'messages': [FunctionMessage(content='13', name='get_word_length')]},\n",
       " {'output': 'There are 13 words in \"KatsukiBakugo\".',\n",
       "  'messages': [AIMessage(content='There are 13 words in \"KatsukiBakugo\".')]}]"
      ]
     },
     "execution_count": 8,
     "metadata": {},
     "output_type": "execute_result"
    }
   ],
   "source": [
    "list(agent_executor.stream({\"input\":\"How many words are there in KatsukiBakugo\"}))"
   ]
  },
  {
   "cell_type": "code",
   "execution_count": 9,
   "metadata": {},
   "outputs": [
    {
     "name": "stdout",
     "output_type": "stream",
     "text": [
      "\n",
      "\n",
      "\u001b[1m> Entering new AgentExecutor chain...\u001b[0m\n",
      "\u001b[32;1m\u001b[1;3m\n",
      "Invoking: `get_word_length` with `{'word': 'KatsukiBakugo'}`\n",
      "\n",
      "\n",
      "\u001b[0m\u001b[36;1m\u001b[1;3m13\u001b[0m\u001b[32;1m\u001b[1;3mThere are 13 words in \"KatsukiBakugo\".\u001b[0m\n",
      "\n",
      "\u001b[1m> Finished chain.\u001b[0m\n"
     ]
    },
    {
     "data": {
      "text/plain": [
       "{'input': 'How many words are there in KatsukiBakugo',\n",
       " 'output': 'There are 13 words in \"KatsukiBakugo\".'}"
      ]
     },
     "execution_count": 9,
     "metadata": {},
     "output_type": "execute_result"
    }
   ],
   "source": [
    "agent_executor.invoke({\"input\":\"How many words are there in KatsukiBakugo\"})"
   ]
  },
  {
   "cell_type": "markdown",
   "metadata": {},
   "source": [
    "## Adding Memory\n",
    "\n"
   ]
  },
  {
   "cell_type": "code",
   "execution_count": 10,
   "metadata": {},
   "outputs": [],
   "source": [
    "from langchain.prompts import MessagesPlaceholder\n",
    "MEMORY_KEY = \"chat_history\"\n",
    "prompt = ChatPromptTemplate.from_messages(\n",
    "    [\n",
    "        (\"system\", \"You are a powerful assistant but bad at calculating lengths of word\"),\n",
    "        MessagesPlaceholder(variable_name = MEMORY_KEY),\n",
    "        (\"user\", \"{input}\"),\n",
    "        MessagesPlaceholder(variable_name = \"agent_scratchpad\")\n",
    "    ]\n",
    ")"
   ]
  },
  {
   "cell_type": "code",
   "execution_count": 11,
   "metadata": {},
   "outputs": [],
   "source": [
    "from langchain.prompts import MessagesPlaceholder\n",
    "\n",
    "MEMORY_KEY = \"chat_history\"\n",
    "prompt = ChatPromptTemplate.from_messages(\n",
    "    [\n",
    "        (\n",
    "            \"system\",\n",
    "            \"You are very powerful assistant, but bad at calculating lengths of words.\",\n",
    "        ),\n",
    "        MessagesPlaceholder(variable_name=MEMORY_KEY),\n",
    "        (\"user\", \"{input}\"),\n",
    "        MessagesPlaceholder(variable_name=\"agent_scratchpad\"),\n",
    "    ]\n",
    ")"
   ]
  },
  {
   "cell_type": "code",
   "execution_count": 13,
   "metadata": {},
   "outputs": [],
   "source": [
    "from langchain_core.messages import AIMessage, HumanMessage\n",
    "chat_history = []\n",
    "agent = (\n",
    "    {\n",
    "        \"input\": lambda x:x[\"input\"],\n",
    "        \"agent_scratchpad\": lambda x:format_to_openai_tool_messages(x[\"intermediate_steps\"]),\n",
    "        \"chat_history\": lambda x:x[\"chat_history\"]\n",
    "    }\n",
    "    |prompt\n",
    "    |llm_with_tools\n",
    "    |OpenAIToolsAgentOutputParser()\n",
    ")\n",
    "agent_executor = AgentExecutor(agent= agent, tools=tools, verbose=True)"
   ]
  },
  {
   "cell_type": "code",
   "execution_count": 14,
   "metadata": {},
   "outputs": [
    {
     "name": "stdout",
     "output_type": "stream",
     "text": [
      "\n",
      "\n",
      "\u001b[1m> Entering new AgentExecutor chain...\u001b[0m\n",
      "\u001b[32;1m\u001b[1;3m\n",
      "Invoking: `get_word_length` with `{'word': 'educa'}`\n",
      "\n",
      "\n",
      "\u001b[0m\u001b[36;1m\u001b[1;3m5\u001b[0m\u001b[32;1m\u001b[1;3mThere are 5 words in the word \"educa\".\u001b[0m\n",
      "\n",
      "\u001b[1m> Finished chain.\u001b[0m\n",
      "\n",
      "\n",
      "\u001b[1m> Entering new AgentExecutor chain...\u001b[0m\n",
      "\u001b[32;1m\u001b[1;3m\n",
      "Invoking: `get_word_length` with `{'word': 'KatsukiBakugo'}`\n",
      "\n",
      "\n",
      "\u001b[0m\u001b[36;1m\u001b[1;3m13\u001b[0m\u001b[32;1m\u001b[1;3mThere are 13 letters in the word \"KatsukiBakugo\".\u001b[0m\n",
      "\n",
      "\u001b[1m> Finished chain.\u001b[0m\n"
     ]
    },
    {
     "data": {
      "text/plain": [
       "{'input': 'How many words are there in KatsukiBakugo?',\n",
       " 'chat_history': [HumanMessage(content='How many words are there in the word educa'),\n",
       "  AIMessage(content='There are 5 words in the word \"educa\".')],\n",
       " 'output': 'There are 13 letters in the word \"KatsukiBakugo\".'}"
      ]
     },
     "execution_count": 14,
     "metadata": {},
     "output_type": "execute_result"
    }
   ],
   "source": [
    "input1 = \"How many letters are there in the word educa\"\n",
    "result = agent_executor.invoke({\"input\": input1, \"chat_history\":chat_history})\n",
    "chat_history.extend([\n",
    "    HumanMessage(content= input1),\n",
    "    AIMessage(content=result[\"output\"])\n",
    "])"
   ]
  },
  {
   "cell_type": "code",
   "execution_count": 16,
   "metadata": {},
   "outputs": [
    {
     "name": "stdout",
     "output_type": "stream",
     "text": [
      "\n",
      "\n",
      "\u001b[1m> Entering new AgentExecutor chain...\u001b[0m\n",
      "\u001b[32;1m\u001b[1;3m\n",
      "Invoking: `get_word_length` with `{'word': 'katsuki'}`\n",
      "\n",
      "\n",
      "\u001b[0m\u001b[36;1m\u001b[1;3m7\u001b[0m\u001b[32;1m\u001b[1;3m\n",
      "Invoking: `get_word_length` with `{'word': 'Bakugo'}`\n",
      "\n",
      "\n",
      "\u001b[0m\u001b[36;1m\u001b[1;3m6\u001b[0m\u001b[32;1m\u001b[1;3mThere are 2 words in \"katsukiBakugo\". The first word has 7 letters and the second word has 6 letters.\u001b[0m\n",
      "\n",
      "\u001b[1m> Finished chain.\u001b[0m\n"
     ]
    }
   ],
   "source": [
    "input2 = input(\"Ask a question\")\n",
    "agent_executor.invoke({\"input\":input2, \"chat_history\": chat_history})\n",
    "chat_history.extend([\n",
    "    HumanMessage(content= input2),\n",
    "    AIMessage(content=result[\"output\"])\n",
    "])"
   ]
  },
  {
   "cell_type": "code",
   "execution_count": 17,
   "metadata": {},
   "outputs": [
    {
     "data": {
      "text/plain": [
       "[HumanMessage(content='How many words are there in the word educa'),\n",
       " AIMessage(content='There are 5 words in the word \"educa\".'),\n",
       " HumanMessage(content='How many words are there in katsukiBakugo?'),\n",
       " AIMessage(content='There are 5 words in the word \"educa\".')]"
      ]
     },
     "execution_count": 17,
     "metadata": {},
     "output_type": "execute_result"
    }
   ],
   "source": [
    "chat_history"
   ]
  },
  {
   "cell_type": "code",
   "execution_count": 18,
   "metadata": {},
   "outputs": [
    {
     "data": {
      "text/plain": [
       "list"
      ]
     },
     "execution_count": 18,
     "metadata": {},
     "output_type": "execute_result"
    }
   ],
   "source": [
    "type(chat_history)"
   ]
  },
  {
   "cell_type": "code",
   "execution_count": null,
   "metadata": {},
   "outputs": [],
   "source": []
  }
 ],
 "metadata": {
  "kernelspec": {
   "display_name": "Python 3",
   "language": "python",
   "name": "python3"
  },
  "language_info": {
   "codemirror_mode": {
    "name": "ipython",
    "version": 3
   },
   "file_extension": ".py",
   "mimetype": "text/x-python",
   "name": "python",
   "nbconvert_exporter": "python",
   "pygments_lexer": "ipython3",
   "version": "3.11.0"
  }
 },
 "nbformat": 4,
 "nbformat_minor": 2
}

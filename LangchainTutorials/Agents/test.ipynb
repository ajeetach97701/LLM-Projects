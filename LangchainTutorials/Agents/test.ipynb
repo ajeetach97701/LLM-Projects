{
 "cells": [
  {
   "cell_type": "markdown",
   "metadata": {},
   "source": [
    "### Steps for quickstart of Agents\n",
    "- Load the following items: \n",
    "    - WebBaseLoader\n",
    "    - FIASS\n",
    "    - Embeddings\n",
    "    - RecursiveCharacterTextSplitter\n",
    "    - retriever tool"
   ]
  },
  {
   "cell_type": "markdown",
   "metadata": {},
   "source": [
    "- Using DuckDuckGoSearchRun we created an agent"
   ]
  },
  {
   "cell_type": "code",
   "execution_count": 12,
   "metadata": {},
   "outputs": [],
   "source": [
    "from langchain import hub\n",
    "from langchain_openai import ChatOpenAI\n",
    "from langchain_community.vectorstores import Chroma\n",
    "from langchain_community.tools import DuckDuckGoSearchRun\n",
    "from langchain.tools.retriever import create_retriever_tool\n",
    "from langchain_community.document_loaders import WebBaseLoader \n",
    "from langchain_google_genai import GoogleGenerativeAIEmbeddings\n",
    "from langchain_text_splitters import RecursiveCharacterTextSplitter\n",
    "from langchain.agents import AgentExecutor, create_tool_calling_agent, tool"
   ]
  },
  {
   "cell_type": "code",
   "execution_count": 2,
   "metadata": {},
   "outputs": [],
   "source": [
    "search = DuckDuckGoSearchRun()\n",
    "llm = ChatOpenAI(model = \"gpt-3.5-turbo-0125\", temperature= 0)\n",
    "embeddings = GoogleGenerativeAIEmbeddings(model = \"models/embedding-001\")\n",
    "loader = WebBaseLoader(\"https://docs.smith.langchain.com/overview\")\n",
    "docs = loader.load()\n",
    "documents = RecursiveCharacterTextSplitter(chunk_size =1000, \n",
    "                                           chunk_overlap = 200).split_documents(docs)\n",
    "vector = Chroma.from_documents(documents,embedding= embeddings)\n",
    "retriever = vector.as_retriever()\n"
   ]
  },
  {
   "cell_type": "code",
   "execution_count": 3,
   "metadata": {},
   "outputs": [],
   "source": [
    "retriever_tool = create_retriever_tool(\n",
    "    retriever, \n",
    "    \"langsmith_search\",\n",
    "    \"Search for information about LangSmith. For any question about langSmith, you must use this tool!\",\n",
    ")"
   ]
  },
  {
   "cell_type": "code",
   "execution_count": 4,
   "metadata": {},
   "outputs": [],
   "source": [
    "tools = [search, retriever_tool]"
   ]
  },
  {
   "cell_type": "code",
   "execution_count": 5,
   "metadata": {},
   "outputs": [
    {
     "data": {
      "text/plain": [
       "\"Match Summary. Sat 9 Dec 2023. Premier League. Manchester United 0 , AFC Bournemouth 3 at Full time. ... Match ends, Manchester United 0, Bournemouth 3. Full Time at 90 minutes plus 7. 90'+7. Report and free match highlights as Man Utd cling onto 2-2 Premier League draw at Bournemouth; Bruno Fernandes twice scores to cancel out goals from Dominic Solanke and Justin Kluivert; Man Utd 10 ... Sunday 10 December 2023 08:07, UK. FREE TO WATCH: Highlights from the Premier League match between Manchester United and Bournemouth. Manchester United crumbled to a humiliating 3-0 defeat against ... Bournemouth vs Manchester United 2-2: Premier League - as it happened. Follow our build-up and text commentary as Bournemouth entertain Manchester United in the Premier League. Manchester United have just one win in seven Premier League games after they drew 2-2 to Bournemouth on Saturday evening. Dominic Solanke gave the Cherries the lead after just 16 minutes when ...\""
      ]
     },
     "execution_count": 5,
     "metadata": {},
     "output_type": "execute_result"
    }
   ],
   "source": [
    "search.run(\"manchester united vs bournemouth match summary\")"
   ]
  },
  {
   "cell_type": "code",
   "execution_count": 7,
   "metadata": {},
   "outputs": [],
   "source": [
    "prompt = hub.pull(\"hwchase17/openai-functions-agent\")"
   ]
  },
  {
   "cell_type": "code",
   "execution_count": 8,
   "metadata": {},
   "outputs": [
    {
     "data": {
      "text/plain": [
       "[SystemMessagePromptTemplate(prompt=PromptTemplate(input_variables=[], template='You are a helpful assistant')),\n",
       " MessagesPlaceholder(variable_name='chat_history', optional=True),\n",
       " HumanMessagePromptTemplate(prompt=PromptTemplate(input_variables=['input'], template='{input}')),\n",
       " MessagesPlaceholder(variable_name='agent_scratchpad')]"
      ]
     },
     "execution_count": 8,
     "metadata": {},
     "output_type": "execute_result"
    }
   ],
   "source": [
    "prompt.messages"
   ]
  },
  {
   "cell_type": "code",
   "execution_count": 16,
   "metadata": {},
   "outputs": [],
   "source": [
    "agent = create_tool_calling_agent(llm= llm , tools= tools, prompt= prompt)"
   ]
  },
  {
   "cell_type": "code",
   "execution_count": 17,
   "metadata": {},
   "outputs": [
    {
     "name": "stdout",
     "output_type": "stream",
     "text": [
      "\n",
      "\n",
      "\u001b[1m> Entering new AgentExecutor chain...\u001b[0m\n",
      "\u001b[32;1m\u001b[1;3mHello! How can I assist you today?\u001b[0m\n",
      "\n",
      "\u001b[1m> Finished chain.\u001b[0m\n"
     ]
    },
    {
     "data": {
      "text/plain": [
       "{'input': 'Hi', 'output': 'Hello! How can I assist you today?'}"
      ]
     },
     "execution_count": 17,
     "metadata": {},
     "output_type": "execute_result"
    }
   ],
   "source": [
    "agent_executor = AgentExecutor(agent=agent, tools= tools, verbose=True)\n",
    "agent_executor.invoke({\"input\":\"Hi\"})"
   ]
  },
  {
   "cell_type": "code",
   "execution_count": 18,
   "metadata": {},
   "outputs": [
    {
     "name": "stdout",
     "output_type": "stream",
     "text": [
      "\n",
      "\n",
      "\u001b[1m> Entering new AgentExecutor chain...\u001b[0m\n",
      "\u001b[32;1m\u001b[1;3m\n",
      "Invoking: `duckduckgo_search` with `{'query': 'Barack Obama'}`\n",
      "\n",
      "\n",
      "\u001b[0m\u001b[36;1m\u001b[1;3mLearn about the life and achievements of Barack Obama, the first Black commander-in-chief of the United States. From his early years in Hawaii and Indonesia to his political career in Illinois and Washington, D.C., discover his family background, education, marriage, hobbies, and legacy. As Barack Obama was sworn in for his second term, FRONTLINE took a probing look at the first four years of his presidency. (Aired 2013) This journalism is ma... Former President Barack Obama, in a CNN interview that aired Thursday night, said he does not believe President Joe Biden will face a serious primary challenge during his 2024 reelection campaign ... What makes Mr. Obama's presidency distinctive is the way it resonated around the world in the \"Obama moment,\" as Evan McCormick, who led the foreign policy part of the project, put it. WASHINGTON — During a trip to the White House in June, former President Barack Obama made it clear to his former running mate that he was committed to doing whatever it takes to support his re ...\u001b[0m\u001b[32;1m\u001b[1;3mBarack Obama is the first Black commander-in-chief of the United States. He served as the 44th President of the United States from 2009 to 2017. Obama was born in Hawaii and had a successful political career in Illinois before becoming a prominent figure in Washington, D.C. He is known for his family background, education, marriage, hobbies, and legacy. Obama's presidency was marked by significant events and policies that shaped the country during his tenure.\u001b[0m\n",
      "\n",
      "\u001b[1m> Finished chain.\u001b[0m\n"
     ]
    },
    {
     "data": {
      "text/plain": [
       "{'input': 'Who is barack obama',\n",
       " 'output': \"Barack Obama is the first Black commander-in-chief of the United States. He served as the 44th President of the United States from 2009 to 2017. Obama was born in Hawaii and had a successful political career in Illinois before becoming a prominent figure in Washington, D.C. He is known for his family background, education, marriage, hobbies, and legacy. Obama's presidency was marked by significant events and policies that shaped the country during his tenure.\"}"
      ]
     },
     "execution_count": 18,
     "metadata": {},
     "output_type": "execute_result"
    }
   ],
   "source": [
    "agent_executor.invoke({\"input\":\"Who is barack obama\"})"
   ]
  },
  {
   "cell_type": "code",
   "execution_count": 19,
   "metadata": {},
   "outputs": [
    {
     "name": "stdout",
     "output_type": "stream",
     "text": [
      "\n",
      "\n",
      "\u001b[1m> Entering new AgentExecutor chain...\u001b[0m\n",
      "\u001b[32;1m\u001b[1;3m\n",
      "Invoking: `langsmith_search` with `{'query': 'how can LangSmith help with testing'}`\n",
      "\n",
      "\n",
      "\u001b[0m\u001b[33;1m\u001b[1;3mGetting started with LangSmith | 🦜️🛠️ LangSmith\n",
      "\n",
      "Evaluations in LangSmith\" },    ],    datasetId: dataset.id,});// Define your evaluatorconst exactMatch = async ({ run, example }: { run: Run; example?: Example; }): Promise<EvaluationResult> => {    return {        key: 'exact_match',        score: run.outputs?.output === example?.outputs?.output ? 1 : 0,    };};await runOnDataset(    (input: { postfix: string }) => ({ output: `Welcome ${input.postfix}` }), // Your AI system goes here    datasetName, // The data to predict and grade over    {        evaluationConfig: { customEvaluators: [exactMatch] },        projectMetadata: {            version: \"1.0.0\",            revision_id: \"beta\",        },    });See more on the evaluation quick start page.Next Steps​Check out the following sections to learn more about LangSmith:User Guide: Learn about the workflows LangSmith supports at each stage of the LLM application lifecycle.Pricing: Learn about the pricing model for LangSmith.Self-Hosting: Learn about self-hosting options for\n",
      "\n",
      "evaluators=[exact_match], # The evaluators to score the results    experiment_prefix=\"sample-experiment\", # The name of the experiment    metadata={      \"version\": \"1.0.0\",      \"revision_id\": \"beta\"    },)import { Client, Run, Example } from 'langsmith';import { runOnDataset } from 'langchain/smith';import { EvaluationResult } from 'langsmith/evaluation';const client = new Client();// Define dataset: these are your test casesconst datasetName = \"Sample Dataset\";const dataset = await client.createDataset(datasetName, {    description: \"A sample dataset in LangSmith.\"});await client.createExamples({    inputs: [        { postfix: \"to LangSmith\" },        { postfix: \"to Evaluations in LangSmith\" },    ],    outputs: [        { output: \"Welcome to LangSmith\" },        { output: \"Welcome to Evaluations in LangSmith\" },    ],    datasetId: dataset.id,});// Define your evaluatorconst exactMatch = async ({ run, example }: { run: Run; example?: Example; }): Promise<EvaluationResult> => {\n",
      "\n",
      "Learn about the workflows LangSmith supports at each stage of the LLM application lifecycle.Pricing: Learn about the pricing model for LangSmith.Self-Hosting: Learn about self-hosting options for LangSmith.Proxy: Learn about the proxy capabilities of LangSmith.Tracing: Learn about the tracing capabilities of LangSmith.Evaluation: Learn about the evaluation capabilities of LangSmith.Prompt Hub Learn about the Prompt Hub, a prompt management tool built into LangSmith.Additional Resources​LangSmith Cookbook: A collection of tutorials and end-to-end walkthroughs using LangSmith.LangChain Python: Docs for the Python LangChain library.LangChain Python API Reference: documentation to review the core APIs of LangChain.LangChain JS: Docs for the TypeScript LangChain libraryDiscord: Join us on our Discord to discuss all things LangChain!FAQ​How do I migrate projects between organizations?​Currently we do not support project migration betwen organizations. While you can manually imitate this by\u001b[0m\u001b[32;1m\u001b[1;3mLangSmith can help with testing by providing evaluation capabilities for your AI systems. You can define datasets with test cases, create examples with inputs and expected outputs, and use evaluators to score the results. LangSmith supports workflows at each stage of the LLM application lifecycle, offers pricing information, self-hosting options, proxy capabilities, tracing capabilities, and more. Additionally, you can explore the LangSmith Cookbook for tutorials and walkthroughs, the LangChain Python and JS documentation, and join the LangChain Discord for discussions.\u001b[0m\n",
      "\n",
      "\u001b[1m> Finished chain.\u001b[0m\n"
     ]
    },
    {
     "data": {
      "text/plain": [
       "{'input': 'how can langsmith help with testing?',\n",
       " 'output': 'LangSmith can help with testing by providing evaluation capabilities for your AI systems. You can define datasets with test cases, create examples with inputs and expected outputs, and use evaluators to score the results. LangSmith supports workflows at each stage of the LLM application lifecycle, offers pricing information, self-hosting options, proxy capabilities, tracing capabilities, and more. Additionally, you can explore the LangSmith Cookbook for tutorials and walkthroughs, the LangChain Python and JS documentation, and join the LangChain Discord for discussions.'}"
      ]
     },
     "execution_count": 19,
     "metadata": {},
     "output_type": "execute_result"
    }
   ],
   "source": [
    "agent_executor.invoke({\"input\": \"how can langsmith help with testing?\"})\n"
   ]
  },
  {
   "cell_type": "markdown",
   "metadata": {},
   "source": [
    "## Adding memory"
   ]
  },
  {
   "cell_type": "code",
   "execution_count": 22,
   "metadata": {},
   "outputs": [
    {
     "name": "stdout",
     "output_type": "stream",
     "text": [
      "\n",
      "\n",
      "\u001b[1m> Entering new AgentExecutor chain...\u001b[0m\n",
      "\u001b[32;1m\u001b[1;3mHello Ajeet! How can I assist you today?\u001b[0m\n",
      "\n",
      "\u001b[1m> Finished chain.\u001b[0m\n"
     ]
    },
    {
     "data": {
      "text/plain": [
       "{'input': 'Hi! my name is Ajeet',\n",
       " 'chat_history': [],\n",
       " 'output': 'Hello Ajeet! How can I assist you today?'}"
      ]
     },
     "execution_count": 22,
     "metadata": {},
     "output_type": "execute_result"
    }
   ],
   "source": [
    "agent_executor.invoke({\"input\":\"Hi! my name is Ajeet\", \"chat_history\":[]})"
   ]
  },
  {
   "cell_type": "code",
   "execution_count": 23,
   "metadata": {},
   "outputs": [
    {
     "name": "stdout",
     "output_type": "stream",
     "text": [
      "\n",
      "\n",
      "\u001b[1m> Entering new AgentExecutor chain...\u001b[0m\n",
      "\u001b[32;1m\u001b[1;3mYour name is Ajeet Acharya.\u001b[0m\n",
      "\n",
      "\u001b[1m> Finished chain.\u001b[0m\n"
     ]
    },
    {
     "data": {
      "text/plain": [
       "{'chat_history': [HumanMessage(content='Hi! My name is Ajeet Acharya'),\n",
       "  AIMessage(content=\"hello bob how's it going?\")],\n",
       " 'input': \"what's my name?\",\n",
       " 'output': 'Your name is Ajeet Acharya.'}"
      ]
     },
     "execution_count": 23,
     "metadata": {},
     "output_type": "execute_result"
    }
   ],
   "source": [
    "from langchain_core.messages import HumanMessage, AIMessage\n",
    "agent_executor.invoke({\n",
    "    \"chat_history\":[\n",
    "        HumanMessage(content= \"Hi! My name is Ajeet Acharya\"),\n",
    "        AIMessage(content = \"hello bob how's it going?\")\n",
    "    ],\n",
    "    \"input\":\"what's my name?\"\n",
    "})"
   ]
  },
  {
   "cell_type": "code",
   "execution_count": 25,
   "metadata": {},
   "outputs": [
    {
     "name": "stdout",
     "output_type": "stream",
     "text": [
      "\n",
      "\n",
      "\u001b[1m> Entering new AgentExecutor chain...\u001b[0m\n",
      "\u001b[32;1m\u001b[1;3mI'm sorry, but I don't have access to your personal information such as your name. How can I assist you today?\u001b[0m\n",
      "\n",
      "\u001b[1m> Finished chain.\u001b[0m\n"
     ]
    },
    {
     "data": {
      "text/plain": [
       "{'input': 'What is my name?',\n",
       " 'output': \"I'm sorry, but I don't have access to your personal information such as your name. How can I assist you today?\"}"
      ]
     },
     "execution_count": 25,
     "metadata": {},
     "output_type": "execute_result"
    }
   ],
   "source": [
    "agent_executor.invoke({\"input\":\"What is my name?\"})"
   ]
  },
  {
   "cell_type": "code",
   "execution_count": null,
   "metadata": {},
   "outputs": [],
   "source": []
  }
 ],
 "metadata": {
  "kernelspec": {
   "display_name": "Python 3",
   "language": "python",
   "name": "python3"
  },
  "language_info": {
   "codemirror_mode": {
    "name": "ipython",
    "version": 3
   },
   "file_extension": ".py",
   "mimetype": "text/x-python",
   "name": "python",
   "nbconvert_exporter": "python",
   "pygments_lexer": "ipython3",
   "version": "3.11.0"
  }
 },
 "nbformat": 4,
 "nbformat_minor": 2
}
